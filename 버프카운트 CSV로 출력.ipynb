{
 "cells": [
  {
   "cell_type": "code",
   "execution_count": 1,
   "metadata": {},
   "outputs": [
    {
     "name": "stdout",
     "output_type": "stream",
     "text": [
      "작업이 완료되었습니다.\n"
     ]
    }
   ],
   "source": [
    "import pandas as pd\n",
    "\n",
    "for i in range(1, 6):\n",
    "    # CSV 파일 읽어오기\n",
    "    data = pd.read_csv(f'C:/Users/KOSA/Naver MYBOX/Cording Study/Kosa/Code/C++/WAiSER Use Project/최종 프로젝트/DT_FINAL_Project/CSV/buf_count_list{i}.csv')\n",
    "\n",
    "    # current_time이 같을 시, buffer_count와 stock_count 는 가장 큰 값만을 사용\n",
    "    data = data.groupby(['project_id', 'object_id', 'object_type', 'current_time']).max().reset_index()\n",
    "\n",
    "    # object_id 별로 buffer_count와 stock_count 의 평균 구하기\n",
    "    result = data.groupby(['project_id', 'object_id', 'object_type']).mean().reset_index()[['project_id', 'object_id', 'object_type', 'buffer_count', 'stock_count']]\n",
    "\n",
    "    # 최종 결과 출력\n",
    "    result.to_csv(f'mean_by_object_id {i}.csv', index=True)\n",
    "\n",
    "    df_mean = data.groupby('object_type')[['buffer_count', 'stock_count']].mean()\n",
    "    df_mean.to_csv(f'mean_by_object_type {i}.csv', index=True)\n",
    "\n",
    "print(\"작업이 완료되었습니다.\")\n"
   ]
  }
 ],
 "metadata": {
  "kernelspec": {
   "display_name": "Python 3.10.8 64-bit",
   "language": "python",
   "name": "python3"
  },
  "language_info": {
   "codemirror_mode": {
    "name": "ipython",
    "version": 3
   },
   "file_extension": ".py",
   "mimetype": "text/x-python",
   "name": "python",
   "nbconvert_exporter": "python",
   "pygments_lexer": "ipython3",
   "version": "3.10.8"
  },
  "orig_nbformat": 4,
  "vscode": {
   "interpreter": {
    "hash": "f6f2f92be7af7102912e78624e54970c3cbb9e9515fdfb2c15a5ae0a5c3c46cd"
   }
  }
 },
 "nbformat": 4,
 "nbformat_minor": 2
}
